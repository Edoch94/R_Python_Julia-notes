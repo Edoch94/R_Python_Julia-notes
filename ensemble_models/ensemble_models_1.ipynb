{
 "cells": [
  {
   "cell_type": "markdown",
   "metadata": {},
   "source": [
    "# Ensemble model methods"
   ]
  },
  {
   "cell_type": "markdown",
   "metadata": {},
   "source": [
    "## Dataset download"
   ]
  },
  {
   "cell_type": "code",
   "execution_count": 1,
   "metadata": {
    "vscode": {
     "languageId": "powershell"
    }
   },
   "outputs": [],
   "source": [
    "# cd data\n",
    "# kaggle datasets download -d fedesoriano/stroke-prediction-dataset"
   ]
  },
  {
   "cell_type": "code",
   "execution_count": 113,
   "metadata": {},
   "outputs": [
    {
     "data": {
      "text/html": [
       "<div>\n",
       "<style scoped>\n",
       "    .dataframe tbody tr th:only-of-type {\n",
       "        vertical-align: middle;\n",
       "    }\n",
       "\n",
       "    .dataframe tbody tr th {\n",
       "        vertical-align: top;\n",
       "    }\n",
       "\n",
       "    .dataframe thead th {\n",
       "        text-align: right;\n",
       "    }\n",
       "</style>\n",
       "<table border=\"1\" class=\"dataframe\">\n",
       "  <thead>\n",
       "    <tr style=\"text-align: right;\">\n",
       "      <th></th>\n",
       "      <th>id</th>\n",
       "      <th>gender</th>\n",
       "      <th>age</th>\n",
       "      <th>hypertension</th>\n",
       "      <th>heart_disease</th>\n",
       "      <th>ever_married</th>\n",
       "      <th>work_type</th>\n",
       "      <th>Residence_type</th>\n",
       "      <th>avg_glucose_level</th>\n",
       "      <th>bmi</th>\n",
       "      <th>smoking_status</th>\n",
       "      <th>stroke</th>\n",
       "    </tr>\n",
       "  </thead>\n",
       "  <tbody>\n",
       "    <tr>\n",
       "      <th>0</th>\n",
       "      <td>9046</td>\n",
       "      <td>Male</td>\n",
       "      <td>67.0</td>\n",
       "      <td>0</td>\n",
       "      <td>1</td>\n",
       "      <td>Yes</td>\n",
       "      <td>Private</td>\n",
       "      <td>Urban</td>\n",
       "      <td>228.69</td>\n",
       "      <td>36.6</td>\n",
       "      <td>formerly smoked</td>\n",
       "      <td>1</td>\n",
       "    </tr>\n",
       "    <tr>\n",
       "      <th>1</th>\n",
       "      <td>51676</td>\n",
       "      <td>Female</td>\n",
       "      <td>61.0</td>\n",
       "      <td>0</td>\n",
       "      <td>0</td>\n",
       "      <td>Yes</td>\n",
       "      <td>Self-employed</td>\n",
       "      <td>Rural</td>\n",
       "      <td>202.21</td>\n",
       "      <td>NaN</td>\n",
       "      <td>never smoked</td>\n",
       "      <td>1</td>\n",
       "    </tr>\n",
       "    <tr>\n",
       "      <th>2</th>\n",
       "      <td>31112</td>\n",
       "      <td>Male</td>\n",
       "      <td>80.0</td>\n",
       "      <td>0</td>\n",
       "      <td>1</td>\n",
       "      <td>Yes</td>\n",
       "      <td>Private</td>\n",
       "      <td>Rural</td>\n",
       "      <td>105.92</td>\n",
       "      <td>32.5</td>\n",
       "      <td>never smoked</td>\n",
       "      <td>1</td>\n",
       "    </tr>\n",
       "    <tr>\n",
       "      <th>3</th>\n",
       "      <td>60182</td>\n",
       "      <td>Female</td>\n",
       "      <td>49.0</td>\n",
       "      <td>0</td>\n",
       "      <td>0</td>\n",
       "      <td>Yes</td>\n",
       "      <td>Private</td>\n",
       "      <td>Urban</td>\n",
       "      <td>171.23</td>\n",
       "      <td>34.4</td>\n",
       "      <td>smokes</td>\n",
       "      <td>1</td>\n",
       "    </tr>\n",
       "    <tr>\n",
       "      <th>4</th>\n",
       "      <td>1665</td>\n",
       "      <td>Female</td>\n",
       "      <td>79.0</td>\n",
       "      <td>1</td>\n",
       "      <td>0</td>\n",
       "      <td>Yes</td>\n",
       "      <td>Self-employed</td>\n",
       "      <td>Rural</td>\n",
       "      <td>174.12</td>\n",
       "      <td>24.0</td>\n",
       "      <td>never smoked</td>\n",
       "      <td>1</td>\n",
       "    </tr>\n",
       "  </tbody>\n",
       "</table>\n",
       "</div>"
      ],
      "text/plain": [
       "      id  gender   age  ...   bmi   smoking_status stroke\n",
       "0   9046    Male  67.0  ...  36.6  formerly smoked      1\n",
       "1  51676  Female  61.0  ...   NaN     never smoked      1\n",
       "2  31112    Male  80.0  ...  32.5     never smoked      1\n",
       "3  60182  Female  49.0  ...  34.4           smokes      1\n",
       "4   1665  Female  79.0  ...  24.0     never smoked      1\n",
       "\n",
       "[5 rows x 12 columns]"
      ]
     },
     "execution_count": 113,
     "metadata": {},
     "output_type": "execute_result"
    }
   ],
   "source": [
    "import pandas as pd\n",
    "import numpy as np\n",
    "from pathlib import Path\n",
    "\n",
    "data_IN = pd.read_csv(Path('.')/'data'/'stroke-prediction-dataset.zip')\n",
    "\n",
    "data_IN.head()"
   ]
  },
  {
   "cell_type": "code",
   "execution_count": 3,
   "metadata": {},
   "outputs": [
    {
     "data": {
      "text/html": [
       "<div>\n",
       "<style scoped>\n",
       "    .dataframe tbody tr th:only-of-type {\n",
       "        vertical-align: middle;\n",
       "    }\n",
       "\n",
       "    .dataframe tbody tr th {\n",
       "        vertical-align: top;\n",
       "    }\n",
       "\n",
       "    .dataframe thead th {\n",
       "        text-align: right;\n",
       "    }\n",
       "</style>\n",
       "<table border=\"1\" class=\"dataframe\">\n",
       "  <thead>\n",
       "    <tr style=\"text-align: right;\">\n",
       "      <th></th>\n",
       "      <th>id</th>\n",
       "      <th>age</th>\n",
       "      <th>hypertension</th>\n",
       "      <th>heart_disease</th>\n",
       "      <th>avg_glucose_level</th>\n",
       "      <th>bmi</th>\n",
       "      <th>stroke</th>\n",
       "    </tr>\n",
       "  </thead>\n",
       "  <tbody>\n",
       "    <tr>\n",
       "      <th>count</th>\n",
       "      <td>5110.000000</td>\n",
       "      <td>5110.000000</td>\n",
       "      <td>5110.000000</td>\n",
       "      <td>5110.000000</td>\n",
       "      <td>5110.000000</td>\n",
       "      <td>4909.000000</td>\n",
       "      <td>5110.000000</td>\n",
       "    </tr>\n",
       "    <tr>\n",
       "      <th>mean</th>\n",
       "      <td>36517.829354</td>\n",
       "      <td>43.226614</td>\n",
       "      <td>0.097456</td>\n",
       "      <td>0.054012</td>\n",
       "      <td>106.147677</td>\n",
       "      <td>28.893237</td>\n",
       "      <td>0.048728</td>\n",
       "    </tr>\n",
       "    <tr>\n",
       "      <th>std</th>\n",
       "      <td>21161.721625</td>\n",
       "      <td>22.612647</td>\n",
       "      <td>0.296607</td>\n",
       "      <td>0.226063</td>\n",
       "      <td>45.283560</td>\n",
       "      <td>7.854067</td>\n",
       "      <td>0.215320</td>\n",
       "    </tr>\n",
       "    <tr>\n",
       "      <th>min</th>\n",
       "      <td>67.000000</td>\n",
       "      <td>0.080000</td>\n",
       "      <td>0.000000</td>\n",
       "      <td>0.000000</td>\n",
       "      <td>55.120000</td>\n",
       "      <td>10.300000</td>\n",
       "      <td>0.000000</td>\n",
       "    </tr>\n",
       "    <tr>\n",
       "      <th>25%</th>\n",
       "      <td>17741.250000</td>\n",
       "      <td>25.000000</td>\n",
       "      <td>0.000000</td>\n",
       "      <td>0.000000</td>\n",
       "      <td>77.245000</td>\n",
       "      <td>23.500000</td>\n",
       "      <td>0.000000</td>\n",
       "    </tr>\n",
       "    <tr>\n",
       "      <th>50%</th>\n",
       "      <td>36932.000000</td>\n",
       "      <td>45.000000</td>\n",
       "      <td>0.000000</td>\n",
       "      <td>0.000000</td>\n",
       "      <td>91.885000</td>\n",
       "      <td>28.100000</td>\n",
       "      <td>0.000000</td>\n",
       "    </tr>\n",
       "    <tr>\n",
       "      <th>75%</th>\n",
       "      <td>54682.000000</td>\n",
       "      <td>61.000000</td>\n",
       "      <td>0.000000</td>\n",
       "      <td>0.000000</td>\n",
       "      <td>114.090000</td>\n",
       "      <td>33.100000</td>\n",
       "      <td>0.000000</td>\n",
       "    </tr>\n",
       "    <tr>\n",
       "      <th>max</th>\n",
       "      <td>72940.000000</td>\n",
       "      <td>82.000000</td>\n",
       "      <td>1.000000</td>\n",
       "      <td>1.000000</td>\n",
       "      <td>271.740000</td>\n",
       "      <td>97.600000</td>\n",
       "      <td>1.000000</td>\n",
       "    </tr>\n",
       "  </tbody>\n",
       "</table>\n",
       "</div>"
      ],
      "text/plain": [
       "                 id          age  ...          bmi       stroke\n",
       "count   5110.000000  5110.000000  ...  4909.000000  5110.000000\n",
       "mean   36517.829354    43.226614  ...    28.893237     0.048728\n",
       "std    21161.721625    22.612647  ...     7.854067     0.215320\n",
       "min       67.000000     0.080000  ...    10.300000     0.000000\n",
       "25%    17741.250000    25.000000  ...    23.500000     0.000000\n",
       "50%    36932.000000    45.000000  ...    28.100000     0.000000\n",
       "75%    54682.000000    61.000000  ...    33.100000     0.000000\n",
       "max    72940.000000    82.000000  ...    97.600000     1.000000\n",
       "\n",
       "[8 rows x 7 columns]"
      ]
     },
     "execution_count": 3,
     "metadata": {},
     "output_type": "execute_result"
    }
   ],
   "source": [
    "data_IN.describe()"
   ]
  },
  {
   "cell_type": "code",
   "execution_count": 4,
   "metadata": {},
   "outputs": [
    {
     "name": "stdout",
     "output_type": "stream",
     "text": [
      "<class 'pandas.core.frame.DataFrame'>\n",
      "RangeIndex: 5110 entries, 0 to 5109\n",
      "Data columns (total 12 columns):\n",
      " #   Column             Non-Null Count  Dtype  \n",
      "---  ------             --------------  -----  \n",
      " 0   id                 5110 non-null   int64  \n",
      " 1   gender             5110 non-null   object \n",
      " 2   age                5110 non-null   float64\n",
      " 3   hypertension       5110 non-null   int64  \n",
      " 4   heart_disease      5110 non-null   int64  \n",
      " 5   ever_married       5110 non-null   object \n",
      " 6   work_type          5110 non-null   object \n",
      " 7   Residence_type     5110 non-null   object \n",
      " 8   avg_glucose_level  5110 non-null   float64\n",
      " 9   bmi                4909 non-null   float64\n",
      " 10  smoking_status     5110 non-null   object \n",
      " 11  stroke             5110 non-null   int64  \n",
      "dtypes: float64(3), int64(4), object(5)\n",
      "memory usage: 479.2+ KB\n"
     ]
    }
   ],
   "source": [
    "data_IN.info()"
   ]
  },
  {
   "cell_type": "markdown",
   "metadata": {},
   "source": [
    "Column `bmi` contains null values. Give values using a ML model"
   ]
  },
  {
   "cell_type": "code",
   "execution_count": 5,
   "metadata": {},
   "outputs": [
    {
     "data": {
      "text/html": [
       "<div>\n",
       "<style scoped>\n",
       "    .dataframe tbody tr th:only-of-type {\n",
       "        vertical-align: middle;\n",
       "    }\n",
       "\n",
       "    .dataframe tbody tr th {\n",
       "        vertical-align: top;\n",
       "    }\n",
       "\n",
       "    .dataframe thead th {\n",
       "        text-align: right;\n",
       "    }\n",
       "</style>\n",
       "<table border=\"1\" class=\"dataframe\">\n",
       "  <thead>\n",
       "    <tr style=\"text-align: right;\">\n",
       "      <th></th>\n",
       "      <th>id</th>\n",
       "      <th>gender</th>\n",
       "      <th>age</th>\n",
       "      <th>hypertension</th>\n",
       "      <th>heart_disease</th>\n",
       "      <th>ever_married</th>\n",
       "      <th>work_type</th>\n",
       "      <th>Residence_type</th>\n",
       "      <th>avg_glucose_level</th>\n",
       "      <th>smoking_status</th>\n",
       "    </tr>\n",
       "  </thead>\n",
       "  <tbody>\n",
       "    <tr>\n",
       "      <th>795</th>\n",
       "      <td>60777</td>\n",
       "      <td>Female</td>\n",
       "      <td>31.0</td>\n",
       "      <td>0</td>\n",
       "      <td>0</td>\n",
       "      <td>Yes</td>\n",
       "      <td>Govt_job</td>\n",
       "      <td>Rural</td>\n",
       "      <td>103.55</td>\n",
       "      <td>formerly smoked</td>\n",
       "    </tr>\n",
       "    <tr>\n",
       "      <th>3031</th>\n",
       "      <td>65688</td>\n",
       "      <td>Male</td>\n",
       "      <td>2.0</td>\n",
       "      <td>0</td>\n",
       "      <td>1</td>\n",
       "      <td>No</td>\n",
       "      <td>children</td>\n",
       "      <td>Urban</td>\n",
       "      <td>62.89</td>\n",
       "      <td>Unknown</td>\n",
       "    </tr>\n",
       "    <tr>\n",
       "      <th>2438</th>\n",
       "      <td>61010</td>\n",
       "      <td>Female</td>\n",
       "      <td>60.0</td>\n",
       "      <td>0</td>\n",
       "      <td>0</td>\n",
       "      <td>Yes</td>\n",
       "      <td>Private</td>\n",
       "      <td>Urban</td>\n",
       "      <td>114.34</td>\n",
       "      <td>smokes</td>\n",
       "    </tr>\n",
       "    <tr>\n",
       "      <th>2043</th>\n",
       "      <td>15225</td>\n",
       "      <td>Male</td>\n",
       "      <td>18.0</td>\n",
       "      <td>0</td>\n",
       "      <td>0</td>\n",
       "      <td>No</td>\n",
       "      <td>Private</td>\n",
       "      <td>Rural</td>\n",
       "      <td>108.87</td>\n",
       "      <td>Unknown</td>\n",
       "    </tr>\n",
       "    <tr>\n",
       "      <th>2032</th>\n",
       "      <td>57263</td>\n",
       "      <td>Female</td>\n",
       "      <td>54.0</td>\n",
       "      <td>0</td>\n",
       "      <td>0</td>\n",
       "      <td>Yes</td>\n",
       "      <td>Private</td>\n",
       "      <td>Urban</td>\n",
       "      <td>100.29</td>\n",
       "      <td>never smoked</td>\n",
       "    </tr>\n",
       "  </tbody>\n",
       "</table>\n",
       "</div>"
      ],
      "text/plain": [
       "         id  gender   age  ...  Residence_type  avg_glucose_level   smoking_status\n",
       "795   60777  Female  31.0  ...           Rural             103.55  formerly smoked\n",
       "3031  65688    Male   2.0  ...           Urban              62.89          Unknown\n",
       "2438  61010  Female  60.0  ...           Urban             114.34           smokes\n",
       "2043  15225    Male  18.0  ...           Rural             108.87          Unknown\n",
       "2032  57263  Female  54.0  ...           Urban             100.29     never smoked\n",
       "\n",
       "[5 rows x 10 columns]"
      ]
     },
     "execution_count": 5,
     "metadata": {},
     "output_type": "execute_result"
    }
   ],
   "source": [
    "from sklearn.model_selection import train_test_split\n",
    "\n",
    "data_IN_2 = data_IN.drop('stroke',axis=1)\n",
    "\n",
    "bmi_mask = data_IN_2['bmi'].isna()\n",
    "\n",
    "df_bmi_P = data_IN_2.loc[~bmi_mask,:]\n",
    "df_bmi_A = data_IN_2.loc[bmi_mask,:]\n",
    "\n",
    "df_bmi_P_target = df_bmi_P['bmi']\n",
    "df_bmi_P = df_bmi_P.drop(['bmi'],axis=1)\n",
    "\n",
    "df_bmi_P_train, df_bmi_P_test, df_bmi_P_target_train, df_bmi_P_target_test = train_test_split(\n",
    "    df_bmi_P,\n",
    "    df_bmi_P_target,\n",
    "    shuffle=True,\n",
    "    random_state=42\n",
    ")\n",
    "\n",
    "df_bmi_P_train.head()"
   ]
  },
  {
   "cell_type": "markdown",
   "metadata": {},
   "source": [
    "Naive bmi attribution with mean value of bmi"
   ]
  },
  {
   "cell_type": "code",
   "execution_count": 6,
   "metadata": {},
   "outputs": [
    {
     "name": "stdout",
     "output_type": "stream",
     "text": [
      "<class 'pandas.core.frame.DataFrame'>\n",
      "RangeIndex: 5110 entries, 0 to 5109\n",
      "Data columns (total 11 columns):\n",
      " #   Column             Non-Null Count  Dtype  \n",
      "---  ------             --------------  -----  \n",
      " 0   gender             5110 non-null   object \n",
      " 1   age                5110 non-null   float64\n",
      " 2   hypertension       5110 non-null   int64  \n",
      " 3   heart_disease      5110 non-null   int64  \n",
      " 4   ever_married       5110 non-null   object \n",
      " 5   work_type          5110 non-null   object \n",
      " 6   Residence_type     5110 non-null   object \n",
      " 7   avg_glucose_level  5110 non-null   float64\n",
      " 8   bmi                5110 non-null   float64\n",
      " 9   smoking_status     5110 non-null   object \n",
      " 10  stroke             5110 non-null   int64  \n",
      "dtypes: float64(3), int64(3), object(5)\n",
      "memory usage: 439.3+ KB\n"
     ]
    }
   ],
   "source": [
    "df_IN = data_IN.copy().drop('id',axis=1)\n",
    "df_IN['bmi'] = df_IN['bmi'].fillna(df_IN['bmi'].mean())\n",
    "df_IN.info()"
   ]
  },
  {
   "cell_type": "markdown",
   "metadata": {},
   "source": [
    "Number of records per class\n"
   ]
  },
  {
   "cell_type": "code",
   "execution_count": 7,
   "metadata": {},
   "outputs": [
    {
     "data": {
      "text/plain": [
       "0    4861\n",
       "1     249\n",
       "Name: stroke, dtype: int64"
      ]
     },
     "execution_count": 7,
     "metadata": {},
     "output_type": "execute_result"
    }
   ],
   "source": [
    "df_IN.stroke.value_counts()"
   ]
  },
  {
   "cell_type": "markdown",
   "metadata": {},
   "source": [
    "Visualize the numerical features"
   ]
  },
  {
   "cell_type": "code",
   "execution_count": 8,
   "metadata": {},
   "outputs": [
    {
     "data": {
      "text/plain": [
       "<seaborn.axisgrid.FacetGrid at 0x1f514056790>"
      ]
     },
     "execution_count": 8,
     "metadata": {},
     "output_type": "execute_result"
    },
    {
     "data": {
      "image/png": "[encoded data removed]",
      "text/plain": [
       "<Figure size 648x216 with 3 Axes>"
      ]
     },
     "metadata": {
      "needs_background": "light"
     },
     "output_type": "display_data"
    }
   ],
   "source": [
    "import seaborn as sns\n",
    "\n",
    "df_to_plot = df_IN.loc[:,['bmi','avg_glucose_level','age']]\n",
    "\n",
    "df_to_plot = df_to_plot.stack()\n",
    "\n",
    "df_to_plot.name = 'value'\n",
    "\n",
    "df_to_plot = df_to_plot.droplevel(0,axis=0).to_frame().reset_index()\n",
    "\n",
    "df_to_plot = df_to_plot.rename({'index':'feature'},axis=1)\n",
    "\n",
    "hist_grid = sns.FacetGrid(\n",
    "    df_to_plot,\n",
    "    col='feature',\n",
    "    sharex=False,\n",
    "    sharey=False\n",
    ")\n",
    "hist_grid.map(sns.histplot,'value')\n"
   ]
  },
  {
   "cell_type": "markdown",
   "metadata": {},
   "source": [
    "### Baseline"
   ]
  },
  {
   "cell_type": "markdown",
   "metadata": {},
   "source": [
    "#### Creation of train/valid and test sets"
   ]
  },
  {
   "cell_type": "code",
   "execution_count": 69,
   "metadata": {},
   "outputs": [
    {
     "name": "stdout",
     "output_type": "stream",
     "text": [
      "0    4375\n",
      "1     224\n",
      "Name: stroke, dtype: int64\n",
      "0    486\n",
      "1     25\n",
      "Name: stroke, dtype: int64\n"
     ]
    }
   ],
   "source": [
    "from sklearn.model_selection import train_test_split\n",
    "\n",
    "df_features = df_IN.drop('stroke',axis=1)\n",
    "df_target = df_IN.loc[:,['stroke']]\n",
    "\n",
    "df_train, df_test, target_train, target_test = train_test_split(\n",
    "    df_features, df_target,\n",
    "    test_size=0.1,\n",
    "    shuffle=True,\n",
    "    stratify=df_target,\n",
    "    random_state=42\n",
    ")\n",
    "\n",
    "print(target_train['stroke'].value_counts())\n",
    "print(target_test['stroke'].value_counts())"
   ]
  },
  {
   "cell_type": "markdown",
   "metadata": {},
   "source": [
    "Train/test with resampling"
   ]
  },
  {
   "cell_type": "code",
   "execution_count": 139,
   "metadata": {},
   "outputs": [
    {
     "name": "stdout",
     "output_type": "stream",
     "text": [
      "(5110, 10)\n",
      "0    4861\n",
      "1     249\n",
      "Name: stroke, dtype: int64\n",
      "(6375, 10)\n",
      "0    4375\n",
      "1    2000\n",
      "Name: stroke, dtype: int64\n",
      "(511, 10)\n",
      "0    486\n",
      "1     25\n",
      "Name: stroke, dtype: int64\n"
     ]
    }
   ],
   "source": [
    "from sklearn.utils import resample\n",
    "from sklearn.model_selection import train_test_split\n",
    "\n",
    "def custom_resampler(df_features, df_target, n_samples=1000, test_size=0.1):\n",
    "\n",
    "    df_train, df_test, target_train, target_test = train_test_split(\n",
    "        df_features, df_target,\n",
    "        test_size=0.1,\n",
    "        shuffle=True,\n",
    "        stratify=df_target,\n",
    "        random_state=42\n",
    "    )\n",
    "\n",
    "    mask_class_1 = target_train['stroke'] == 1\n",
    "\n",
    "    df_train_class_1, target_train_class_1 = df_train.loc[mask_class_1,:], target_train.loc[mask_class_1,:]\n",
    "\n",
    "    df_train_class_1_resampled, target_train_class_1_resampled = resample(\n",
    "        df_train_class_1, target_train_class_1,\n",
    "        n_samples=n_samples\n",
    "    )\n",
    "\n",
    "    df_train_resampled = pd.concat(\n",
    "        [df_train.loc[~mask_class_1], df_train_class_1_resampled]\n",
    "    )\n",
    "\n",
    "    target_train_resampled = pd.concat(\n",
    "        [target_train.loc[~mask_class_1], target_train_class_1_resampled]\n",
    "    )\n",
    "\n",
    "    return df_train_resampled, df_test, target_train_resampled, target_test\n",
    "\n",
    "df_train_resampled, df_test, target_train_resampled, target_test = custom_resampler(df_features,df_target)\n",
    "\n",
    "\n",
    "print(df_features.shape)\n",
    "print(df_target['stroke'].value_counts())\n",
    "print(df_train_resampled.shape)\n",
    "print(target_train_resampled['stroke'].value_counts())\n",
    "print(df_test.shape)\n",
    "print(target_test['stroke'].value_counts())"
   ]
  },
  {
   "cell_type": "markdown",
   "metadata": {},
   "source": [
    "#### Definition of the transfromations"
   ]
  },
  {
   "cell_type": "code",
   "execution_count": 95,
   "metadata": {},
   "outputs": [],
   "source": [
    "from sklearn.compose import ColumnTransformer\n",
    "from sklearn.preprocessing import OneHotEncoder, MinMaxScaler, PowerTransformer # test different scaler\n",
    "from sklearn.pipeline import Pipeline\n",
    "\n",
    "col_trans = ColumnTransformer(\n",
    "    [\n",
    "        ('onehot_encoder', OneHotEncoder(sparse=False), ['gender','ever_married','work_type','Residence_type','smoking_status']),\n",
    "        ('minmax_scaler', MinMaxScaler(), ['age']),\n",
    "        ('pwr_transformer', PowerTransformer(), ['bmi','avg_glucose_level'])\n",
    "    ],\n",
    "    remainder='passthrough',\n",
    "    n_jobs=6,\n",
    "    verbose=True,\n",
    "    verbose_feature_names_out=False\n",
    ")"
   ]
  },
  {
   "cell_type": "code",
   "execution_count": 147,
   "metadata": {},
   "outputs": [],
   "source": [
    "from sklearn.linear_model import LogisticRegression\n",
    "from sklearn.svm import SVC\n",
    "from sklearn.naive_bayes import BernoulliNB\n",
    "from sklearn.ensemble import RandomForestClassifier, HistGradientBoostingClassifier\n",
    "from sklearn.neighbors import KNeighborsClassifier\n",
    "from xgboost import XGBClassifier\n",
    "from lightgbm import LGBMClassifier\n",
    "\n",
    "log_reg = LogisticRegression()\n",
    "svc = SVC()\n",
    "bern_nb = BernoulliNB()\n",
    "rnd_forest = RandomForestClassifier()\n",
    "hist_grad = HistGradientBoostingClassifier()\n",
    "kn_class = KNeighborsClassifier()\n",
    "xgb_class = XGBClassifier()\n",
    "lgbm_class = LGBMClassifier(\n",
    "    n_estimators=200,\n",
    "    n_jobs=6,\n",
    "    # colsample_bytree=.9\n",
    ")\n",
    "\n",
    "pipe1 = Pipeline(\n",
    "    [\n",
    "        ('col_trans', col_trans),\n",
    "        # ('log_reg', log_reg)\n",
    "        # ('svc', svc)\n",
    "        # ('bern_nb', bern_nb)\n",
    "        # ('kn_class', kn_class)\n",
    "        # ('rnd_forest', rnd_forest)\n",
    "        # ('hist_grad', hist_grad)\n",
    "        # ('xgb_class', xgb_class)\n",
    "        ('lgbm_class', lgbm_class)\n",
    "    ]\n",
    ")"
   ]
  },
  {
   "cell_type": "code",
   "execution_count": 150,
   "metadata": {},
   "outputs": [
    {
     "name": "stdout",
     "output_type": "stream",
     "text": [
      "[0.5508935256013802, 0.5436413431769469, 0.574065253631817, 0.5105363984674329, 0.5681203515889114, 0.5393283750281722, 0.5414387031408308, 0.5626872058194266, 0.5601377259566477, 0.537302785018521, 0.574065253631817, 0.5299221799557445, 0.5576883910386966, 0.55087060835689, 0.5837067209775968, 0.5334794063176566]\n"
     ]
    }
   ],
   "source": [
    "from sklearn.metrics import classification_report, f1_score\n",
    "\n",
    "f1_macro_results = []\n",
    "\n",
    "for num, n_samples in enumerate(np.arange(400,2000,100)):\n",
    "\n",
    "    df_train_resampled, df_test, target_train_resampled, target_test = custom_resampler(df_features, df_target, n_samples, test_size=.1)\n",
    "\n",
    "    model = pipe1.fit(df_train_resampled, target_train_resampled.values.ravel())\n",
    "\n",
    "    preds = model.predict(df_test)\n",
    "\n",
    "    class_report = classification_report(target_test.values.ravel(),preds)\n",
    "    class_f1_macro = f1_score(target_test.values.ravel(),preds,average='macro')\n",
    "\n",
    "    f1_macro_results.append(class_f1_macro)\n",
    "\n",
    "    print(f'{num}.\\tn_samples: {n_samples}', end='\\r')\n",
    "\n",
    "print(f1_macro_results)"
   ]
  },
  {
   "cell_type": "markdown",
   "metadata": {},
   "source": [
    "## Stacking models manually optimizing the AUC\n",
    "Source: [Approaching (Almost) Any Machine Learning Problem](https://github.com/abhishekkrthakur/approachingalmost)"
   ]
  },
  {
   "cell_type": "code",
   "execution_count": 4,
   "metadata": {},
   "outputs": [],
   "source": [
    "import numpy as np\n",
    "from sklearn.metrics import roc_auc_score\n",
    "from scipy.optimize import fmin\n",
    "\n",
    "class OptimizeAUC:\n",
    "    '''\n",
    "    Class for optimizing AUC\n",
    "    '''\n",
    "    def __init__(self):\n",
    "        self.coef_ = 0\n",
    "\n",
    "    def _auc(self, coef, X, y):\n",
    "        '''\n",
    "        Function that returns the AUC.\n",
    "        :param coef: coef list, i.e., the weights used to ensemble the model predictions (probabilities)\n",
    "        :param X: predictions\n",
    "        :param y: targets\n",
    "        '''\n",
    "        # Compute the weighted model predictions by multiplying the predictions of the single models by the coefficient array\n",
    "        x_coef = X * coef\n",
    "\n",
    "        # Compute the overall prediction as the sum of the weighted predictions\n",
    "        predictions = np.sum(x_coef, axis=1)\n",
    "\n",
    "        # Compute AUC score\n",
    "        auc_score = roc_auc_score(y, predictions)\n",
    "\n",
    "        # To maximize AUC return -AUC\n",
    "        return -1.0 * auc_score\n",
    "    \n",
    "    def fit(self, X, y):\n",
    "        '''\n",
    "        Function that computes the coefficient values that maximize the AUC of the ensembled models\n",
    "        :param X: predictions\n",
    "        :param y: targets\n",
    "        '''\n",
    "        # Define the loss function, that, in this case, is the (-1.0*) AUC\n",
    "        loss = self._auc\n",
    "\n",
    "        # Initialize the coefficients\n",
    "        init_coef = np.random.dirichlet(np.ones(X.shape[1]),size=1)\n",
    "\n",
    "        # Minimize the loss\n",
    "        self.coef_ = fmin(func=loss,x0=init_coef,args=(X,y))\n",
    "\n",
    "    def predict(self, X):\n",
    "        # Compute the weighted predictions by multiplying the predictions of the single models by the coefficient array found minimizing the AUC\n",
    "        x_coef = X * self.coef_\n",
    "\n",
    "        predictions = np.sum(x_coef,axis=1)"
   ]
  },
  {
   "cell_type": "code",
   "execution_count": 12,
   "metadata": {},
   "outputs": [
    {
     "data": {
      "text/plain": [
       "array([0.61045213, 0.38954787])"
      ]
     },
     "execution_count": 12,
     "metadata": {},
     "output_type": "execute_result"
    }
   ],
   "source": [
    "from sklearn.model_selection import train_test_split\n",
    "from sklearn.ensemble import RandomForestClassifier\n",
    "from sklearn.linear_model import LogisticRegression\n",
    "\n",
    "x_train, x_test, y_train, y_test = train_test_split(\n",
    "    X, y,\n",
    "    shuffle=True,\n",
    "    test_size=.9\n",
    ")"
   ]
  }
 ],
 "metadata": {
  "kernelspec": {
   "display_name": "Python 3.9.13 ('notes_env')",
   "language": "python",
   "name": "python3"
  },
  "language_info": {
   "codemirror_mode": {
    "name": "ipython",
    "version": 3
   },
   "file_extension": ".py",
   "mimetype": "text/x-python",
   "name": "python",
   "nbconvert_exporter": "python",
   "pygments_lexer": "ipython3",
   "version": "3.9.13"
  },
  "orig_nbformat": 4,
  "vscode": {
   "interpreter": {
    "hash": "6680c78669e3bde689dbe1a33ca378e33131ec7cedf09ae7e8fb4c294688974d"
   }
  }
 },
 "nbformat": 4,
 "nbformat_minor": 2
}
