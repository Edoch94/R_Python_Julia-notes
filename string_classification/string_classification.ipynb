{
 "metadata": {
  "language_info": {
   "codemirror_mode": {
    "name": "ipython",
    "version": 3
   },
   "file_extension": ".py",
   "mimetype": "text/x-python",
   "name": "python",
   "nbconvert_exporter": "python",
   "pygments_lexer": "ipython3",
   "version": "3.9.4"
  },
  "orig_nbformat": 2,
  "kernelspec": {
   "name": "python394jvsc74a57bd01ca838adb8df41afd78e36f2fcfe58b79792331c31bc40fa3813ff6d4f5c412d",
   "display_name": "Python 3.9.4 64-bit ('conda_env_1': conda)"
  },
  "metadata": {
   "interpreter": {
    "hash": "1ca838adb8df41afd78e36f2fcfe58b79792331c31bc40fa3813ff6d4f5c412d"
   }
  }
 },
 "nbformat": 4,
 "nbformat_minor": 2,
 "cells": [
  {
   "cell_type": "code",
   "execution_count": 1,
   "metadata": {},
   "outputs": [
    {
     "output_type": "stream",
     "name": "stdout",
     "text": [
      "['windows 10', 'windows 8', 'windows 7', 'Windows XP', 'windows vista', 'debian 9', 'debian 8', 'ubuntu 10']\n\n                    Nome_OS Closest_match  Match_ratio\n3      microsoft Windows XP     windows 8     0.482759\n4   microsoft windows vista     windows 8     0.500000\n0      microsoft Windows 10    windows 10     0.600000\n6                      win8     windows 8     0.615385\n7                      win7     windows 7     0.615385\n1       microsoft windows 8     windows 8     0.642857\n2       microsoft windows 7     windows 7     0.642857\n5                     win10    windows 10     0.666667\n10           linux debian 8      debian 8     0.727273\n8                   debian9      debian 8     0.800000\n9                  debian 8      debian 8     1.000000\n11                ubuntu 10     ubuntu 10     1.000000\n\n"
     ]
    }
   ],
   "source": [
    "import numpy as np\n",
    "import pandas as pd\n",
    "import os.path \n",
    "import difflib\n",
    "\n",
    "\n",
    "os.chdir(os.path.join(\"D:\\\\\\\\\",\"Documenti\",\"RAM_PHM\",\"RAM_PHM_course\",\"string_classification\"))\n",
    "\n",
    "data_in = pd.read_csv(\"data_in.csv\")\n",
    "# print(data_in)\n",
    "# print(\"\")\n",
    "\n",
    "# data_in[\"Nome_OS_mod\"] = data_in[\"Nome_OS\"].str.lower().str.replace(\" \",\"\")\n",
    "# print(data_in)\n",
    "# print(\"\")\n",
    "\n",
    "data_classes = pd.read_csv(\"data_classes.csv\")\n",
    "# print(data_classes)\n",
    "# print(\"\")\n",
    "\n",
    "\n",
    "# def similar(a, b):\n",
    "#     return SequenceMatcher(None, a, b).ratio()\n",
    "\n",
    "# word = \"win 8\"\n",
    "# b = difflib.get_close_matches(word, [\"windows 10\", \"windows 8\", \"windows 7\"],n=1)\n",
    "# c = difflib.SequenceMatcher(None, word, difflib.get_close_matches(\"win10\", [\"windows 10\", \"windows 8\", \"windows 7\"], n=1)[0])\n",
    "\n",
    "# print(b)\n",
    "# print(c.ratio())\n",
    "\n",
    "\n",
    "print(list(data_classes[\"Classe_OS\"]))\n",
    "\n",
    "print(\"\")\n",
    "\n",
    "# data_in['Closest_match'] = difflib.get_close_matches(data_in['Nome_OS'], [\"windows 10\", \"windows 8\", \"windows 7\"],n=1)\n",
    "\n",
    "def closest_match_identifier (sistema_operativo, classi):\n",
    "    sistema_operativo_matched = difflib.get_close_matches(sistema_operativo, classi, n=1, cutoff=0.0)\n",
    "    return sistema_operativo_matched[0]\n",
    "\n",
    "def match_ratio_calculator (sistema_operativo, sistema_operativo_matched):\n",
    "    match_ratio = difflib.SequenceMatcher(None, sistema_operativo, sistema_operativo_matched).ratio()\n",
    "    return match_ratio\n",
    "\n",
    "os_list = [\"windows 10\", \"windows 8\", \"windows 7\", \"ubuntu 10\", \"debian 8\"]\n",
    "\n",
    "# data_in['Closest_match'] = data_in['Nome_OS'].transform(lambda x : difflib.get_close_matches(x, [\"windows 10\", \"windows 8\", \"windows 7\"], n=1, cutoff=0.0))\n",
    "\n",
    "data_in['Closest_match'] = data_in['Nome_OS'].transform(lambda x : closest_match_identifier(x, os_list)) \n",
    "\n",
    "# data_in['Match_ratio'] = match_ratio_calculator(data_in['Nome_OS'],data_in['Closest_match'])\n",
    "# data_in['Match_ratio'] = data_in.apply(match_ratio_calculator(data_in['Nome_OS'], data_in['Closest_match'])) \n",
    "data_in['Match_ratio'] = data_in.apply(lambda x : match_ratio_calculator(x['Nome_OS'], x['Closest_match']), axis=1) \n",
    "data_in = data_in.sort_values(by = ['Match_ratio'])\n",
    "\n",
    "print(data_in)\n",
    "print(\"\")\n",
    "\n",
    "# print(difflib.SequenceMatcher(None, data_in['Nome_OS'][0], data_in['Closest_match'][0]).ratio())\n"
   ]
  },
  {
   "cell_type": "code",
   "execution_count": null,
   "metadata": {},
   "outputs": [],
   "source": []
  }
 ]
}