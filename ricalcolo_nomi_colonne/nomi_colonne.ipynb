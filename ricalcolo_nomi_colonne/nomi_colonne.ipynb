{
 "metadata": {
  "language_info": {
   "codemirror_mode": {
    "name": "ipython",
    "version": 3
   },
   "file_extension": ".py",
   "mimetype": "text/x-python",
   "name": "python",
   "nbconvert_exporter": "python",
   "pygments_lexer": "ipython3",
   "version": "3.9.4"
  },
  "orig_nbformat": 4,
  "kernelspec": {
   "name": "python3",
   "display_name": "Python 3.9.4 64-bit ('conda_env_1': conda)"
  },
  "interpreter": {
   "hash": "1ca838adb8df41afd78e36f2fcfe58b79792331c31bc40fa3813ff6d4f5c412d"
  }
 },
 "nbformat": 4,
 "nbformat_minor": 2,
 "cells": [
  {
   "cell_type": "code",
   "execution_count": 32,
   "metadata": {},
   "outputs": [],
   "source": [
    "def lettere_to_numero(lettere, base=5):\n",
    "    lettere_list = list(lettere)\n",
    "    pos = list(range(len(lettere_list)-1,-1,-1))\n",
    "    numero = int()\n",
    "    for count, lettera in enumerate(lettere_list):\n",
    "        numero += (ord(lettera.lower()) - 96)*base**pos[count]\n",
    "    return numero"
   ]
  },
  {
   "cell_type": "code",
   "execution_count": 75,
   "metadata": {},
   "outputs": [],
   "source": [
    "def esponente_divisore(numero, base=5, lvl=0):\n",
    "    limite = int(0)\n",
    "    for l in range(lvl,-1,-1):\n",
    "        limite += base**l\n",
    "    if numero >= limite:\n",
    "        return divisore(numero, base=base, lvl=lvl+1)\n",
    "    else: return lvl-1"
   ]
  },
  {
   "cell_type": "code",
   "execution_count": 162,
   "metadata": {},
   "outputs": [
    {
     "output_type": "execute_result",
     "data": {
      "text/plain": [
       "3"
      ]
     },
     "metadata": {},
     "execution_count": 162
    }
   ],
   "source": [
    "esponente_divisore(156)"
   ]
  },
  {
   "cell_type": "code",
   "execution_count": 193,
   "metadata": {},
   "outputs": [],
   "source": [
    "def numero_to_lettere(numero, base=5):\n",
    "\n",
    "    numero_iniziale = numero\n",
    "    lettere_list = list()\n",
    "    exp_max = esponente_divisore(numero)\n",
    "\n",
    "    num_div_list = list()\n",
    "    num_res_list = list()\n",
    "    exp_in = list()\n",
    "    base_exp = list()\n",
    "\n",
    "    for exp in range(exp_max,-1,-1):\n",
    "        exp_in.append(exp)\n",
    "        num_div, num_res = divmod(numero, base**exp)\n",
    "        limiteE = int(0)\n",
    "        for E in range(exp-1,-1,-1):\n",
    "            limiteE += base**E\n",
    "        if exp != 0 and num_res < limiteE:\n",
    "            num_div -= 1\n",
    "            num_res = numero - (base**exp)*num_div\n",
    "            # num_res += base**(exp-1)\n",
    "        base_exp.append(base**exp)\n",
    "        num_div_list.append(num_div)\n",
    "        num_res_list.append(num_res)\n",
    "        lettere_list.append(chr(num_div+96))\n",
    "        numero = num_res\n",
    "    \n",
    "    str_out = \"\"\n",
    "    return str_out.join(lettere_list).upper()"
   ]
  },
  {
   "cell_type": "code",
   "execution_count": 194,
   "metadata": {},
   "outputs": [
    {
     "output_type": "execute_result",
     "data": {
      "text/plain": [
       "'EEA'"
      ]
     },
     "metadata": {},
     "execution_count": 194
    }
   ],
   "source": [
    "numero_to_lettere(lettere_to_numero(\"EEA\"))"
   ]
  }
 ]
}